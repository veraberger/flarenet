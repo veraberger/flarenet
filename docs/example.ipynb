{
 "cells": [
  {
   "cell_type": "markdown",
   "id": "3474d157-b676-46be-8881-9f164cb14b7a",
   "metadata": {},
   "source": [
    "# Welcome to Flarenet!\n",
    "\n",
    "This notebook introduces Flarenet, a machine learning model developed to identify stellar flares in TESS 20-s cadence data. To learn more about the code, check out Berger et al, (2025). \n",
    "\n",
    "The flarenet model was trained using 20-second cadence TESS data. First, we identified by eye ~1000 lightcurves that were relatively quiet (no flares). We then injected sythetic flares into the data using the [Llamaradas Estelares](https://github.com/lupitatovar/Llamaradas-Estelares) model. The distribution of the FWHM/amplitudes of the injected flares were drawn from the population identified by [Guenther et al, 2020](https://arxiv.org/abs/1901.00443). \n",
    "\n",
    "Unlike the 2-minute and Full Frame Image TESS data products, the 20-s cadence data product does not reject cosmic rays onboard the spacecraft. Instead, this is done during data processing on the ground. The removed cosmic rays are available in an extension to the fits file. We \"add\" these cosmic rays back into training data to help the model distinguish between cosmic rays and flares.\n",
    "\n",
    "Using this training dataset, we create the flarenet model. We construct a neural network that takes in 500 timestep cutouts from the full lightcurve. The model returns a value between 0 (certainly not a flare) and 1 (definitely a flare). During training, an equal number of random samples are drawn from the training dataset that either contain injected flares or that do not. In addition, we randomly inject variability (sinusoidal stellar activity, RR-Lyrae-like variability, exoplanet transits, and asteroid crossing artifacts) to some of the data. This is done to reduce the number of false positive flare identifications. \n",
    "\n",
    "While users are able to generate and train their own model using the codes avialable in flarenet, the default behavior (and what is presented here) is to use the pre-trained model to make predictions. Please take a look at the examples below. If you have any questions, please let us know via a github issue. "
   ]
  },
  {
   "cell_type": "code",
   "execution_count": 1,
   "id": "04cf8669-2964-4447-b331-4aa5f41b684d",
   "metadata": {},
   "outputs": [],
   "source": [
    "%matplotlib inline"
   ]
  },
  {
   "cell_type": "code",
   "execution_count": 2,
   "id": "151559c5-9855-4495-9696-aefb884a519d",
   "metadata": {},
   "outputs": [
    {
     "name": "stderr",
     "output_type": "stream",
     "text": [
      "/Users/nthom/opt/anaconda3/envs/flarenet/lib/python3.10/site-packages/lightkurve/config/__init__.py:119: UserWarning: The default Lightkurve cache directory, used by download(), etc., has been moved to /Users/nthom/.lightkurve/cache. Please move all the files in the legacy directory /Users/nthom/.lightkurve-cache to the new location and remove the legacy directory. Refer to https://docs.lightkurve.org/reference/config.html#default-cache-directory-migration for more information.\n",
      "  warnings.warn(\n"
     ]
    }
   ],
   "source": [
    "import os\n",
    "import sys\n",
    "sys.path.append(\"../src\")\n",
    "import flarenet\n",
    "import lksearch"
   ]
  },
  {
   "cell_type": "markdown",
   "id": "51a76a28-ae40-488c-a722-e45d54d279a2",
   "metadata": {},
   "source": [
    "# Getting TESS data"
   ]
  },
  {
   "cell_type": "markdown",
   "id": "0e494ad0-e110-438f-b792-f4a75ae7273c",
   "metadata": {},
   "source": [
    "First, we will demonstrate how to create the input data using the TessStar class. In practice, this is handled automatically by flarenet. However, we will walk through the steps here manually for reference. In this case, let's say we are interested in looking at the star AU Mic, a young M dwarf star that [is known](https://arxiv.org/abs/2109.03924) to flare frequently.  "
   ]
  },
  {
   "cell_type": "code",
   "execution_count": 3,
   "id": "24011aed-efe5-4c47-8535-90c33bae89ac",
   "metadata": {},
   "outputs": [
    {
     "data": {
      "text/html": [
       "TESSSearch object containing 2 data products \n",
       "<div>\n",
       "<style scoped>\n",
       "    .dataframe tbody tr th:only-of-type {\n",
       "        vertical-align: middle;\n",
       "    }\n",
       "\n",
       "    .dataframe tbody tr th {\n",
       "        vertical-align: top;\n",
       "    }\n",
       "\n",
       "    .dataframe thead th {\n",
       "        text-align: right;\n",
       "    }\n",
       "</style>\n",
       "<table border=\"1\" class=\"dataframe\">\n",
       "  <thead>\n",
       "    <tr style=\"text-align: right;\">\n",
       "      <th></th>\n",
       "      <th>target_name</th>\n",
       "      <th>pipeline</th>\n",
       "      <th>mission</th>\n",
       "      <th>sector</th>\n",
       "      <th>exptime</th>\n",
       "      <th>distance</th>\n",
       "      <th>year</th>\n",
       "      <th>description</th>\n",
       "    </tr>\n",
       "  </thead>\n",
       "  <tbody>\n",
       "    <tr>\n",
       "      <th>0</th>\n",
       "      <td>441420236</td>\n",
       "      <td>SPOC</td>\n",
       "      <td>TESS</td>\n",
       "      <td>27</td>\n",
       "      <td>20.0</td>\n",
       "      <td>0.0</td>\n",
       "      <td>2020</td>\n",
       "      <td>Light curves</td>\n",
       "    </tr>\n",
       "    <tr>\n",
       "      <th>1</th>\n",
       "      <td>441420236</td>\n",
       "      <td>SPOC</td>\n",
       "      <td>TESS</td>\n",
       "      <td>95</td>\n",
       "      <td>20.0</td>\n",
       "      <td>0.0</td>\n",
       "      <td>2025</td>\n",
       "      <td>Light curves</td>\n",
       "    </tr>\n",
       "  </tbody>\n",
       "</table>\n",
       "</div>"
      ],
      "text/plain": [
       "TESSSearch object containing 2 data products \n",
       "  target_name pipeline mission  sector  exptime  distance  year   description\n",
       "0   441420236     SPOC    TESS      27     20.0       0.0  2020  Light curves\n",
       "1   441420236     SPOC    TESS      95     20.0       0.0  2025  Light curves"
      ]
     },
     "execution_count": 3,
     "metadata": {},
     "output_type": "execute_result"
    }
   ],
   "source": [
    "# For demonstration only, we will search for the star manually to get the TICID and available sectors\n",
    "sr=lksearch.TESSSearch(\"AU Mic\", exptime=20).timeseries\n",
    "sr"
   ]
  },
  {
   "cell_type": "markdown",
   "id": "849b9806-c233-4743-8ddb-c26fb1a7996b",
   "metadata": {},
   "source": [
    "OK, AU Mic has the TESS Input Catalog ID 441420236, and only has one sector of available 20-second data. We can use this information to create a TessStar.\n",
    "\n",
    "As we will be making flare predictions on this dataset, for this example, we will add the cosmic rays back in the data, although this is optional. However, when we use flarenet to predict flares, it will be interesting to see how the model performs for the cosmic rays. \n",
    "\n",
    "We also have the flag cloud=False. This indicates whether you want to access the TESS data from the MAST servers or on MAST's cloud platform on AWS. If you do not use cloud data, the fits file will be downloaded locally to your lightkurve cache. "
   ]
  },
  {
   "cell_type": "code",
   "execution_count": 4,
   "id": "55b8f983-b456-4f7f-b807-0d5e32522697",
   "metadata": {},
   "outputs": [
    {
     "name": "stderr",
     "output_type": "stream",
     "text": [
      "Downloading products: 100%|███████████████████████| 1/1 [00:01<00:00,  1.06s/it]\n"
     ]
    }
   ],
   "source": [
    "au_mic = flarenet.TessStar(441420236, sector=27, add_cosmic_rays=True, cloud=False)"
   ]
  },
  {
   "cell_type": "code",
   "execution_count": 5,
   "id": "35d5ea17-5207-4541-b551-053ff4260202",
   "metadata": {},
   "outputs": [
    {
     "data": {
      "text/html": [
       "<div><i>TessLightCurve length=100736 LABEL=&quot;TIC 441420236&quot; SECTOR=27</i>\n",
       "<table id=\"table13321240528\" class=\"table-striped table-bordered table-condensed\">\n",
       "<thead><tr><th>time</th><th>flux</th><th>flux_err</th><th>centroid_col</th><th>centroid_row</th><th>cadenceno</th><th>quality</th></tr></thead>\n",
       "<thead><tr><th></th><th></th><th></th><th>pix</th><th>pix</th><th></th><th></th></tr></thead>\n",
       "<thead><tr><th>Time</th><th>float32</th><th>float32</th><th>float64</th><th>float64</th><th>int32</th><th>int32</th></tr></thead>\n",
       "<tr><td>2036.2834520761414</td><td>0.9947529435157776</td><td>0.00045151080121286213</td><td>475.60808806852805</td><td>1247.0257724334838</td><td>3494118</td><td>0</td></tr>\n",
       "<tr><td>2036.2836835649678</td><td>0.9949482083320618</td><td>0.0004515956388786435</td><td>475.61677536410986</td><td>1247.040747118844</td><td>3494119</td><td>0</td></tr>\n",
       "<tr><td>2036.2839150533287</td><td>0.9944576621055603</td><td>0.0004514913889579475</td><td>475.59518708981784</td><td>1247.0573680554817</td><td>3494120</td><td>0</td></tr>\n",
       "<tr><td>2036.2841465421548</td><td>0.9945974349975586</td><td>0.00045149604557082057</td><td>475.63104442401504</td><td>1247.0222326138312</td><td>3494121</td><td>0</td></tr>\n",
       "<tr><td>2036.2843780309804</td><td>0.9956104159355164</td><td>0.0004517630150076002</td><td>475.6224390729358</td><td>1246.9884828791778</td><td>3494122</td><td>0</td></tr>\n",
       "<tr><td>2036.2846095198063</td><td>0.9947702884674072</td><td>0.0004515415639616549</td><td>475.61161450807356</td><td>1247.0273677599835</td><td>3494123</td><td>0</td></tr>\n",
       "<tr><td>2036.2848410081665</td><td>0.9937642812728882</td><td>0.0004513791936915368</td><td>475.6262755242974</td><td>1247.0147317921842</td><td>3494124</td><td>0</td></tr>\n",
       "<tr><td>2036.2850724969921</td><td>0.9952340126037598</td><td>0.00045163699542172253</td><td>475.60012350241135</td><td>1247.0277649752406</td><td>3494125</td><td>0</td></tr>\n",
       "<tr><td>2036.2853039858182</td><td>0.9940499067306519</td><td>0.0004513741878326982</td><td>475.63081908768066</td><td>1247.0198389615175</td><td>3494126</td><td>0</td></tr>\n",
       "<tr><td>...</td><td>...</td><td>...</td><td>...</td><td>...</td><td>...</td><td>...</td></tr>\n",
       "<tr><td>2060.6465517035417</td><td>0.9957454800605774</td><td>0.0004554792249109596</td><td>475.58460803257003</td><td>1246.8505559195767</td><td>3599365</td><td>0</td></tr>\n",
       "<tr><td>2060.646783185383</td><td>0.9971982836723328</td><td>0.00045588472858071327</td><td>475.6446440142199</td><td>1246.9185780285054</td><td>3599366</td><td>0</td></tr>\n",
       "<tr><td>2060.6470146672236</td><td>0.9971796870231628</td><td>0.0004558748041745275</td><td>475.56111953221864</td><td>1246.820962399767</td><td>3599367</td><td>0</td></tr>\n",
       "<tr><td>2060.6472461490644</td><td>0.9965680241584778</td><td>0.0004556800122372806</td><td>475.5705673085349</td><td>1246.827575740846</td><td>3599368</td><td>0</td></tr>\n",
       "<tr><td>2060.647477630906</td><td>0.9986881017684937</td><td>0.0004561836540233344</td><td>475.58812139888784</td><td>1246.8608415546978</td><td>3599369</td><td>0</td></tr>\n",
       "<tr><td>2060.6477091127476</td><td>0.9971601963043213</td><td>0.0004558192449621856</td><td>475.57303990939835</td><td>1246.838808718092</td><td>3599370</td><td>0</td></tr>\n",
       "<tr><td>2060.647940594589</td><td>0.9988023042678833</td><td>0.0004561752430163324</td><td>475.52480611084957</td><td>1246.7791773098218</td><td>3599371</td><td>0</td></tr>\n",
       "<tr><td>2060.648172076429</td><td>0.997052788734436</td><td>0.00045583522296510637</td><td>475.60060925446635</td><td>1246.8603441844534</td><td>3599372</td><td>1024</td></tr>\n",
       "<tr><td>2060.6484035582703</td><td>0.9981800317764282</td><td>0.0004560544912237674</td><td>475.5664590689924</td><td>1246.8208363869417</td><td>3599373</td><td>0</td></tr>\n",
       "</table></div>"
      ],
      "text/plain": [
       "<TessLightCurve length=100736 LABEL=\"TIC 441420236\" SECTOR=27>\n",
       "       time               flux        ... cadenceno quality\n",
       "                                      ...                  \n",
       "       Time             float32       ...   int32    int32 \n",
       "------------------ ------------------ ... --------- -------\n",
       "2036.2834520761414 0.9947529435157776 ...   3494118       0\n",
       "2036.2836835649678 0.9949482083320618 ...   3494119       0\n",
       "2036.2839150533287 0.9944576621055603 ...   3494120       0\n",
       "2036.2841465421548 0.9945974349975586 ...   3494121       0\n",
       "2036.2843780309804 0.9956104159355164 ...   3494122       0\n",
       "2036.2846095198063 0.9947702884674072 ...   3494123       0\n",
       "2036.2848410081665 0.9937642812728882 ...   3494124       0\n",
       "2036.2850724969921 0.9952340126037598 ...   3494125       0\n",
       "2036.2853039858182 0.9940499067306519 ...   3494126       0\n",
       "               ...                ... ...       ...     ...\n",
       "2060.6465517035417 0.9957454800605774 ...   3599365       0\n",
       " 2060.646783185383 0.9971982836723328 ...   3599366       0\n",
       "2060.6470146672236 0.9971796870231628 ...   3599367       0\n",
       "2060.6472461490644 0.9965680241584778 ...   3599368       0\n",
       " 2060.647477630906 0.9986881017684937 ...   3599369       0\n",
       "2060.6477091127476 0.9971601963043213 ...   3599370       0\n",
       " 2060.647940594589 0.9988023042678833 ...   3599371       0\n",
       " 2060.648172076429  0.997052788734436 ...   3599372    1024\n",
       "2060.6484035582703 0.9981800317764282 ...   3599373       0"
      ]
     },
     "execution_count": 5,
     "metadata": {},
     "output_type": "execute_result"
    }
   ],
   "source": [
    "# The au_mic object stores information as properites. For example, you can access the lightcurve information:\n",
    "au_mic.lc"
   ]
  },
  {
   "cell_type": "code",
   "execution_count": 6,
   "id": "6b29bdca-518d-4c76-96cd-493ff21dd57e",
   "metadata": {},
   "outputs": [
    {
     "data": {
      "image/png": "[encoded data removed]",
      "text/plain": [
       "<Figure size 1200x400 with 1 Axes>"
      ]
     },
     "metadata": {},
     "output_type": "display_data"
    }
   ],
   "source": [
    "# There are also some usful functions for TessStar objects, such as plotting\n",
    "au_mic.plot_lc(save_plot=False) # Just print the plot to screen"
   ]
  },
  {
   "cell_type": "markdown",
   "id": "fb3e4071-dc1c-4d5c-9956-48c17d95cb6c",
   "metadata": {},
   "source": [
    "You can see AU Mic is very active, showing both large scale variability and short scale flares. \n",
    "\n",
    "If you wanted to add more flares to the data, you could do this using au_mic.inject_training_flares(). However, we want to make predictions on the actual data, so we will not do that in this example. Let's save this data out as a csv file, which can be used as input to the flarenet model. We specify train=False, as we are not using this as a training sample."
   ]
  },
  {
   "cell_type": "code",
   "execution_count": 7,
   "id": "9a0b383e-ef37-4d69-b0cc-b50d1e412433",
   "metadata": {},
   "outputs": [],
   "source": [
    "aumic_path = au_mic.save_data(train=False) # returns the path to where the file was saved"
   ]
  },
  {
   "cell_type": "markdown",
   "id": "1cc63ddf-af15-41ef-8f58-8f7d1fa11f5e",
   "metadata": {},
   "source": [
    "# Making Predictions"
   ]
  },
  {
   "cell_type": "markdown",
   "id": "426f9a1a-062f-4f61-8a59-2e92ca990382",
   "metadata": {},
   "source": [
    "Now it's time to make our prediction! There is a second data class called Flarenet that enables several functions for both training and prediction. We will start by instantiating the object.\n",
    "\n"
   ]
  },
  {
   "cell_type": "code",
   "execution_count": 8,
   "id": "42252f96-4f28-4172-a945-4a65dc33de99",
   "metadata": {},
   "outputs": [
    {
     "name": "stdout",
     "output_type": "stream",
     "text": [
      "loading model weights from file /Users/nthom/TESS_GI/gitNschanch/flarenet/src/flarenet/model_weights.weights.h5\n"
     ]
    }
   ],
   "source": [
    "fn = flarenet.Flarenet()"
   ]
  },
  {
   "cell_type": "markdown",
   "id": "a15e0865-1626-4207-b311-057c3c4b9286",
   "metadata": {},
   "source": [
    "By default, it will load in the model and weights that we can pre-trained. However, if you have retrained the model, you can use those weights by pointing to their path with the model_weights keyword. \n",
    "                "
   ]
  },
  {
   "cell_type": "code",
   "execution_count": 12,
   "id": "fcb91887-e9d9-4172-8c8f-b7d0c2035b9d",
   "metadata": {},
   "outputs": [
    {
     "name": "stdout",
     "output_type": "stream",
     "text": [
      "Preparing file for TIC 441420236\n"
     ]
    },
    {
     "name": "stderr",
     "output_type": "stream",
     "text": [
      "Downloading products: 100%|███████████████████████| 1/1 [00:00<00:00,  2.04it/s]\n"
     ]
    },
    {
     "name": "stdout",
     "output_type": "stream",
     "text": [
      "No predictions available for TIC 441420236 Sector 27. Starting prediction for file: /Users/nthom/TESS_GI/gitNschanch/flarenet/src/flarenet/prediction_data/441420236_27_data.csv\n",
      "Starting to prep data for file: /Users/nthom/TESS_GI/gitNschanch/flarenet/src/flarenet/prediction_data/441420236_27_data.csv\n",
      "CSV file loaded. Shape before cleaning: (100736, 6)\n",
      "Gap filling complete for TIC /Users/nthom/TESS_GI/gitNschanch/flarenet/src/flarenet/prediction_data/441420236_27_data.csv. Added 4520 new time points.\n",
      "All segments processed. Final shape: (105256, 7)\n",
      "Data after padding. Final shape: (105756, 7)\n",
      "Preparing final data\n",
      "Prepared data shape: (105756,)\n"
     ]
    },
    {
     "name": "stderr",
     "output_type": "stream",
     "text": [
      "100%|████████████████████████████████| 105256/105256 [00:08<00:00, 12841.63it/s]\n"
     ]
    },
    {
     "name": "stdout",
     "output_type": "stream",
     "text": [
      "\u001b[1m3290/3290\u001b[0m \u001b[32m━━━━━━━━━━━━━━━━━━━━\u001b[0m\u001b[37m\u001b[0m \u001b[1m110s\u001b[0m 34ms/step\n",
      "Predictions shape: (105756,)\n",
      "Successfully processed file: /Users/nthom/TESS_GI/gitNschanch/flarenet/src/flarenet/prediction_data/441420236_27_data.csv\n"
     ]
    }
   ],
   "source": [
    "# by default, if there is already a prediction file for a target, it will read that in rather than running flarenet again. \n",
    "# You can force it to make new predictions using overwrite=True\n",
    "# Note if you are using the default model, this should not change the predictions, but if you train a new model you may want to re-run predictions\n",
    "aumic_preds = fn.predict(441420236, sector=27, save_plot=False, overwrite_predictions=True) #save_plot=False prints plot to screen rather than saving a file"
   ]
  },
  {
   "cell_type": "markdown",
   "id": "baf5d7f6-dd41-4f82-93a0-5433cc4dd6f8",
   "metadata": {},
   "source": [
    "voila! You have the flare predictions. You can see that the final dataframe contains the time, flux, and errors, as well as the quality flags, and cosmic ray flags (if cosmic rays were injected). There is also a column for flare flags, which will populate with '1's when flags are injected. This does NOT reflect detected flares. In this cases, we didn't inject flares, so the values will all be 0."
   ]
  },
  {
   "cell_type": "code",
   "execution_count": 10,
   "id": "9cfec44d-db72-45ba-b2ce-4f4f0c4a3c83",
   "metadata": {},
   "outputs": [
    {
     "data": {
      "text/html": [
       "<div>\n",
       "<style scoped>\n",
       "    .dataframe tbody tr th:only-of-type {\n",
       "        vertical-align: middle;\n",
       "    }\n",
       "\n",
       "    .dataframe tbody tr th {\n",
       "        vertical-align: top;\n",
       "    }\n",
       "\n",
       "    .dataframe thead th {\n",
       "        text-align: right;\n",
       "    }\n",
       "</style>\n",
       "<table border=\"1\" class=\"dataframe\">\n",
       "  <thead>\n",
       "    <tr style=\"text-align: right;\">\n",
       "      <th></th>\n",
       "      <th>time</th>\n",
       "      <th>flux</th>\n",
       "      <th>flux_err</th>\n",
       "      <th>quality</th>\n",
       "      <th>cr_flags</th>\n",
       "      <th>flare_flags</th>\n",
       "      <th>model_prediction</th>\n",
       "    </tr>\n",
       "  </thead>\n",
       "  <tbody>\n",
       "    <tr>\n",
       "      <th>250</th>\n",
       "      <td>2036.283452</td>\n",
       "      <td>0.994753</td>\n",
       "      <td>0.000452</td>\n",
       "      <td>0</td>\n",
       "      <td>0</td>\n",
       "      <td>0.0</td>\n",
       "      <td>0.035109</td>\n",
       "    </tr>\n",
       "    <tr>\n",
       "      <th>251</th>\n",
       "      <td>2036.283684</td>\n",
       "      <td>0.994948</td>\n",
       "      <td>0.000452</td>\n",
       "      <td>0</td>\n",
       "      <td>0</td>\n",
       "      <td>0.0</td>\n",
       "      <td>0.036077</td>\n",
       "    </tr>\n",
       "    <tr>\n",
       "      <th>252</th>\n",
       "      <td>2036.283915</td>\n",
       "      <td>0.994458</td>\n",
       "      <td>0.000451</td>\n",
       "      <td>0</td>\n",
       "      <td>0</td>\n",
       "      <td>0.0</td>\n",
       "      <td>0.036902</td>\n",
       "    </tr>\n",
       "    <tr>\n",
       "      <th>253</th>\n",
       "      <td>2036.284147</td>\n",
       "      <td>0.994597</td>\n",
       "      <td>0.000451</td>\n",
       "      <td>0</td>\n",
       "      <td>0</td>\n",
       "      <td>0.0</td>\n",
       "      <td>0.038309</td>\n",
       "    </tr>\n",
       "    <tr>\n",
       "      <th>254</th>\n",
       "      <td>2036.284378</td>\n",
       "      <td>0.995610</td>\n",
       "      <td>0.000452</td>\n",
       "      <td>0</td>\n",
       "      <td>0</td>\n",
       "      <td>0.0</td>\n",
       "      <td>0.039977</td>\n",
       "    </tr>\n",
       "    <tr>\n",
       "      <th>...</th>\n",
       "      <td>...</td>\n",
       "      <td>...</td>\n",
       "      <td>...</td>\n",
       "      <td>...</td>\n",
       "      <td>...</td>\n",
       "      <td>...</td>\n",
       "      <td>...</td>\n",
       "    </tr>\n",
       "    <tr>\n",
       "      <th>105501</th>\n",
       "      <td>2060.647478</td>\n",
       "      <td>0.998688</td>\n",
       "      <td>0.000456</td>\n",
       "      <td>0</td>\n",
       "      <td>0</td>\n",
       "      <td>0.0</td>\n",
       "      <td>0.069143</td>\n",
       "    </tr>\n",
       "    <tr>\n",
       "      <th>105502</th>\n",
       "      <td>2060.647709</td>\n",
       "      <td>0.997160</td>\n",
       "      <td>0.000456</td>\n",
       "      <td>0</td>\n",
       "      <td>0</td>\n",
       "      <td>0.0</td>\n",
       "      <td>0.070561</td>\n",
       "    </tr>\n",
       "    <tr>\n",
       "      <th>105503</th>\n",
       "      <td>2060.647941</td>\n",
       "      <td>0.998802</td>\n",
       "      <td>0.000456</td>\n",
       "      <td>0</td>\n",
       "      <td>0</td>\n",
       "      <td>0.0</td>\n",
       "      <td>0.065356</td>\n",
       "    </tr>\n",
       "    <tr>\n",
       "      <th>105504</th>\n",
       "      <td>2060.648172</td>\n",
       "      <td>0.997053</td>\n",
       "      <td>0.000456</td>\n",
       "      <td>1024</td>\n",
       "      <td>0</td>\n",
       "      <td>0.0</td>\n",
       "      <td>0.065312</td>\n",
       "    </tr>\n",
       "    <tr>\n",
       "      <th>105505</th>\n",
       "      <td>2060.648404</td>\n",
       "      <td>0.998180</td>\n",
       "      <td>0.000456</td>\n",
       "      <td>0</td>\n",
       "      <td>0</td>\n",
       "      <td>0.0</td>\n",
       "      <td>0.068892</td>\n",
       "    </tr>\n",
       "  </tbody>\n",
       "</table>\n",
       "<p>100736 rows × 7 columns</p>\n",
       "</div>"
      ],
      "text/plain": [
       "               time      flux  flux_err  quality  cr_flags  flare_flags  \\\n",
       "250     2036.283452  0.994753  0.000452        0         0          0.0   \n",
       "251     2036.283684  0.994948  0.000452        0         0          0.0   \n",
       "252     2036.283915  0.994458  0.000451        0         0          0.0   \n",
       "253     2036.284147  0.994597  0.000451        0         0          0.0   \n",
       "254     2036.284378  0.995610  0.000452        0         0          0.0   \n",
       "...             ...       ...       ...      ...       ...          ...   \n",
       "105501  2060.647478  0.998688  0.000456        0         0          0.0   \n",
       "105502  2060.647709  0.997160  0.000456        0         0          0.0   \n",
       "105503  2060.647941  0.998802  0.000456        0         0          0.0   \n",
       "105504  2060.648172  0.997053  0.000456     1024         0          0.0   \n",
       "105505  2060.648404  0.998180  0.000456        0         0          0.0   \n",
       "\n",
       "        model_prediction  \n",
       "250             0.035109  \n",
       "251             0.036077  \n",
       "252             0.036902  \n",
       "253             0.038309  \n",
       "254             0.039977  \n",
       "...                  ...  \n",
       "105501          0.069143  \n",
       "105502          0.070561  \n",
       "105503          0.065356  \n",
       "105504          0.065312  \n",
       "105505          0.068892  \n",
       "\n",
       "[100736 rows x 7 columns]"
      ]
     },
     "execution_count": 10,
     "metadata": {},
     "output_type": "execute_result"
    }
   ],
   "source": [
    "aumic_preds"
   ]
  },
  {
   "cell_type": "markdown",
   "id": "627e6f18-f7fb-49a1-a958-1e7af6a00f17",
   "metadata": {},
   "source": [
    "# Training a new model\n",
    "\n",
    "The default weights for the Flarenet model are the ones that we obtained through the training process described in Berger et al, 2025. However, it is possible to train a new model using Flarenet. We stress that the default model and weights are the final \"Flarenet\" model, but we include the tools needed to create the model for reference and reproducability. So, if you'd like to try your hand at training a new model, follow along with the steps below.  \n",
    "\n",
    "The first thing you need to do is create a training dataset. Flarenet has a function called 'create_training_dataset' which will do this for you. This function will inject flares into 20-second cadence TESS lightcurves of quiet (non-flaring) stars. By default, we inject 100 flares, which corresponds to a flare rate of about ~4 flares/day. You can adjust this number with the num_flares keyword. "
   ]
  },
  {
   "cell_type": "code",
   "execution_count": 11,
   "id": "45ec4359-e921-4488-a9ec-efdb80641500",
   "metadata": {},
   "outputs": [],
   "source": [
    "# Uncomment to create the training dataset\n",
    "# flarenet.flarenet.create_training_dataset() # cloud=True recommended if your enviroment allows access to MAST's cloud-based AWS server"
   ]
  },
  {
   "cell_type": "markdown",
   "id": "3dcc7b83-ad09-4aed-afb0-63266b9c894d",
   "metadata": {},
   "source": [
    "This will take some time as it needs to download (or access if cloud data is enabled) the 20-second TESS fits files.\n",
    "Once this is done, you can start training your model!"
   ]
  },
  {
   "cell_type": "markdown",
   "id": "586e1e94-f17d-437b-8cfa-17ba44f47067",
   "metadata": {},
   "source": [
    "Note this will use the default parameters in flarenet.py, which are:  \n",
    "default_params = {  \n",
    "&emsp;    'data_dir' : f\"{PACKAGEDIR}/\",  \n",
    "&emsp;    'window_size':500,  \n",
    "&emsp;    'batch_size':256,  \n",
    "&emsp;    'batches_per_epoch' : 100,  \n",
    "&emsp;    'epochs':1000,  \n",
    "}  \n",
    "  \n",
    "For demonstration, before running the cell below, I changed the number of epochs to 1 (you can do this by modifying the default_params in flarenet.py). I also only used a handful of lightcurves with flares for training (by manually deleting the file in the training_dataset folder). This means the model runs very fast, but likely will perform poorly. The train_model function automatically splits up the training data into training/validation sets (80%training 20%validation). "
   ]
  },
  {
   "cell_type": "code",
   "execution_count": 11,
   "id": "8b98af50-493b-438e-ab36-1a4f698b4330",
   "metadata": {},
   "outputs": [
    {
     "name": "stdout",
     "output_type": "stream",
     "text": [
      "Model initialized with random weights. Please train your model or input.\n"
     ]
    },
    {
     "name": "stderr",
     "output_type": "stream",
     "text": [
      "/Users/nthom/opt/anaconda3/envs/flarenet/lib/python3.10/site-packages/keras/src/models/functional.py:225: UserWarning: The structure of `inputs` doesn't match the expected structure: inputA. Received: the structure of inputs={'inputA': '*'}\n",
      "  warnings.warn(\n"
     ]
    },
    {
     "name": "stdout",
     "output_type": "stream",
     "text": [
      "\u001b[1m100/100\u001b[0m \u001b[32m━━━━━━━━━━━━━━━━━━━━\u001b[0m\u001b[37m\u001b[0m \u001b[1m0s\u001b[0m 601ms/step - accuracy: 0.5325 - loss: 3.3248"
     ]
    },
    {
     "name": "stderr",
     "output_type": "stream",
     "text": [
      "/Users/nthom/opt/anaconda3/envs/flarenet/lib/python3.10/site-packages/keras/src/models/functional.py:225: UserWarning: The structure of `inputs` doesn't match the expected structure: inputA. Received: the structure of inputs={'inputA': '*'}\n",
      "  warnings.warn(\n"
     ]
    },
    {
     "name": "stdout",
     "output_type": "stream",
     "text": [
      "\u001b[1m100/100\u001b[0m \u001b[32m━━━━━━━━━━━━━━━━━━━━\u001b[0m\u001b[37m\u001b[0m \u001b[1m67s\u001b[0m 644ms/step - accuracy: 0.5325 - loss: 3.3082 - val_accuracy: 0.5007 - val_loss: 74.8488\n"
     ]
    },
    {
     "data": {
      "text/plain": [
       "<keras.src.callbacks.history.History at 0x3b019d630>"
      ]
     },
     "execution_count": 11,
     "metadata": {},
     "output_type": "execute_result"
    }
   ],
   "source": [
    "fn = flarenet.Flarenet(model=None, model_weights=None) # Do not use the default model - we want to train a new model.\n",
    "\n",
    "# save_weights and save_model are the filename for your model. If not specified, it will overwrite the default model. \n",
    "fn.train_model(save_weights = 'my_new_weights', save_model = 'my_new_model', verbose=0) "
   ]
  },
  {
   "cell_type": "code",
   "execution_count": 12,
   "id": "5f3d86dc-b73f-40e8-a6e1-5af4406faa06",
   "metadata": {},
   "outputs": [
    {
     "name": "stdout",
     "output_type": "stream",
     "text": [
      "Preparing file for TIC 441420236\n"
     ]
    },
    {
     "name": "stderr",
     "output_type": "stream",
     "text": [
      "Downloading products: 100%|███████████████████████| 1/1 [00:00<00:00,  2.53it/s]\n"
     ]
    },
    {
     "name": "stdout",
     "output_type": "stream",
     "text": [
      "No predictions available for TIC 441420236 Sector 27. Starting prediction for file: /Users/nthom/TESS_GI/gitNschanch/flarenet/src/flarenet/prediction_data/441420236_27_data.csv\n",
      "Starting to prep data for file: /Users/nthom/TESS_GI/gitNschanch/flarenet/src/flarenet/prediction_data/441420236_27_data.csv\n",
      "CSV file loaded. Shape before cleaning: (100736, 6)\n",
      "Gap filling complete for TIC /Users/nthom/TESS_GI/gitNschanch/flarenet/src/flarenet/prediction_data/441420236_27_data.csv. Added 4520 new time points.\n",
      "All segments processed. Final shape: (105256, 7)\n",
      "Data after padding. Final shape: (105756, 7)\n",
      "Preparing final data\n",
      "Prepared data shape: (105756,)\n"
     ]
    },
    {
     "name": "stderr",
     "output_type": "stream",
     "text": [
      "100%|████████████████████████████████| 105256/105256 [00:07<00:00, 14092.95it/s]\n"
     ]
    },
    {
     "name": "stdout",
     "output_type": "stream",
     "text": [
      "\u001b[1m3290/3290\u001b[0m \u001b[32m━━━━━━━━━━━━━━━━━━━━\u001b[0m\u001b[37m\u001b[0m \u001b[1m126s\u001b[0m 38ms/step\n",
      "Predictions shape: (105756,)\n",
      "Successfully processed file: /Users/nthom/TESS_GI/gitNschanch/flarenet/src/flarenet/prediction_data/441420236_27_data.csv\n"
     ]
    },
    {
     "data": {
      "image/png": "[encoded data removed]",
      "text/plain": [
       "<Figure size 1200x400 with 1 Axes>"
      ]
     },
     "metadata": {},
     "output_type": "display_data"
    },
    {
     "data": {
      "text/html": [
       "<div>\n",
       "<style scoped>\n",
       "    .dataframe tbody tr th:only-of-type {\n",
       "        vertical-align: middle;\n",
       "    }\n",
       "\n",
       "    .dataframe tbody tr th {\n",
       "        vertical-align: top;\n",
       "    }\n",
       "\n",
       "    .dataframe thead th {\n",
       "        text-align: right;\n",
       "    }\n",
       "</style>\n",
       "<table border=\"1\" class=\"dataframe\">\n",
       "  <thead>\n",
       "    <tr style=\"text-align: right;\">\n",
       "      <th></th>\n",
       "      <th>time</th>\n",
       "      <th>flux</th>\n",
       "      <th>flux_err</th>\n",
       "      <th>quality</th>\n",
       "      <th>cr_flags</th>\n",
       "      <th>flare_flags</th>\n",
       "      <th>model_prediction</th>\n",
       "    </tr>\n",
       "  </thead>\n",
       "  <tbody>\n",
       "    <tr>\n",
       "      <th>250</th>\n",
       "      <td>2036.283452</td>\n",
       "      <td>0.994753</td>\n",
       "      <td>0.000452</td>\n",
       "      <td>0</td>\n",
       "      <td>0</td>\n",
       "      <td>0.0</td>\n",
       "      <td>0.0</td>\n",
       "    </tr>\n",
       "    <tr>\n",
       "      <th>251</th>\n",
       "      <td>2036.283684</td>\n",
       "      <td>0.994948</td>\n",
       "      <td>0.000452</td>\n",
       "      <td>0</td>\n",
       "      <td>0</td>\n",
       "      <td>0.0</td>\n",
       "      <td>0.0</td>\n",
       "    </tr>\n",
       "    <tr>\n",
       "      <th>252</th>\n",
       "      <td>2036.283915</td>\n",
       "      <td>0.994458</td>\n",
       "      <td>0.000451</td>\n",
       "      <td>0</td>\n",
       "      <td>0</td>\n",
       "      <td>0.0</td>\n",
       "      <td>0.0</td>\n",
       "    </tr>\n",
       "    <tr>\n",
       "      <th>253</th>\n",
       "      <td>2036.284147</td>\n",
       "      <td>0.994597</td>\n",
       "      <td>0.000451</td>\n",
       "      <td>0</td>\n",
       "      <td>0</td>\n",
       "      <td>0.0</td>\n",
       "      <td>0.0</td>\n",
       "    </tr>\n",
       "    <tr>\n",
       "      <th>254</th>\n",
       "      <td>2036.284378</td>\n",
       "      <td>0.995610</td>\n",
       "      <td>0.000452</td>\n",
       "      <td>0</td>\n",
       "      <td>0</td>\n",
       "      <td>0.0</td>\n",
       "      <td>0.0</td>\n",
       "    </tr>\n",
       "    <tr>\n",
       "      <th>...</th>\n",
       "      <td>...</td>\n",
       "      <td>...</td>\n",
       "      <td>...</td>\n",
       "      <td>...</td>\n",
       "      <td>...</td>\n",
       "      <td>...</td>\n",
       "      <td>...</td>\n",
       "    </tr>\n",
       "    <tr>\n",
       "      <th>105501</th>\n",
       "      <td>2060.647478</td>\n",
       "      <td>0.998688</td>\n",
       "      <td>0.000456</td>\n",
       "      <td>0</td>\n",
       "      <td>0</td>\n",
       "      <td>0.0</td>\n",
       "      <td>0.0</td>\n",
       "    </tr>\n",
       "    <tr>\n",
       "      <th>105502</th>\n",
       "      <td>2060.647709</td>\n",
       "      <td>0.997160</td>\n",
       "      <td>0.000456</td>\n",
       "      <td>0</td>\n",
       "      <td>0</td>\n",
       "      <td>0.0</td>\n",
       "      <td>0.0</td>\n",
       "    </tr>\n",
       "    <tr>\n",
       "      <th>105503</th>\n",
       "      <td>2060.647941</td>\n",
       "      <td>0.998802</td>\n",
       "      <td>0.000456</td>\n",
       "      <td>0</td>\n",
       "      <td>0</td>\n",
       "      <td>0.0</td>\n",
       "      <td>0.0</td>\n",
       "    </tr>\n",
       "    <tr>\n",
       "      <th>105504</th>\n",
       "      <td>2060.648172</td>\n",
       "      <td>0.997053</td>\n",
       "      <td>0.000456</td>\n",
       "      <td>1024</td>\n",
       "      <td>0</td>\n",
       "      <td>0.0</td>\n",
       "      <td>0.0</td>\n",
       "    </tr>\n",
       "    <tr>\n",
       "      <th>105505</th>\n",
       "      <td>2060.648404</td>\n",
       "      <td>0.998180</td>\n",
       "      <td>0.000456</td>\n",
       "      <td>0</td>\n",
       "      <td>0</td>\n",
       "      <td>0.0</td>\n",
       "      <td>0.0</td>\n",
       "    </tr>\n",
       "  </tbody>\n",
       "</table>\n",
       "<p>100736 rows × 7 columns</p>\n",
       "</div>"
      ],
      "text/plain": [
       "               time      flux  flux_err  quality  cr_flags  flare_flags  \\\n",
       "250     2036.283452  0.994753  0.000452        0         0          0.0   \n",
       "251     2036.283684  0.994948  0.000452        0         0          0.0   \n",
       "252     2036.283915  0.994458  0.000451        0         0          0.0   \n",
       "253     2036.284147  0.994597  0.000451        0         0          0.0   \n",
       "254     2036.284378  0.995610  0.000452        0         0          0.0   \n",
       "...             ...       ...       ...      ...       ...          ...   \n",
       "105501  2060.647478  0.998688  0.000456        0         0          0.0   \n",
       "105502  2060.647709  0.997160  0.000456        0         0          0.0   \n",
       "105503  2060.647941  0.998802  0.000456        0         0          0.0   \n",
       "105504  2060.648172  0.997053  0.000456     1024         0          0.0   \n",
       "105505  2060.648404  0.998180  0.000456        0         0          0.0   \n",
       "\n",
       "        model_prediction  \n",
       "250                  0.0  \n",
       "251                  0.0  \n",
       "252                  0.0  \n",
       "253                  0.0  \n",
       "254                  0.0  \n",
       "...                  ...  \n",
       "105501               0.0  \n",
       "105502               0.0  \n",
       "105503               0.0  \n",
       "105504               0.0  \n",
       "105505               0.0  \n",
       "\n",
       "[100736 rows x 7 columns]"
      ]
     },
     "execution_count": 12,
     "metadata": {},
     "output_type": "execute_result"
    }
   ],
   "source": [
    "fn.predict(441420236, sector=27, save_plot=False, overwrite_predictions=True)"
   ]
  },
  {
   "cell_type": "markdown",
   "id": "ed80b165-ef19-4fd9-a28c-790eba68df20",
   "metadata": {},
   "source": [
    "As expected, the performance of this model is not good (one epoch and only a few training lightcurves will do that!). But you can tweak the parameters to create your own trained model. "
   ]
  }
 ],
 "metadata": {
  "kernelspec": {
   "display_name": "Python 3 (ipykernel)",
   "language": "python",
   "name": "python3"
  },
  "language_info": {
   "codemirror_mode": {
    "name": "ipython",
    "version": 3
   },
   "file_extension": ".py",
   "mimetype": "text/x-python",
   "name": "python",
   "nbconvert_exporter": "python",
   "pygments_lexer": "ipython3",
   "version": "3.10.15"
  }
 },
 "nbformat": 4,
 "nbformat_minor": 5
}
